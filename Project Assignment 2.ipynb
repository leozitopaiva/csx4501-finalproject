{
 "cells": [
  {
   "cell_type": "markdown",
   "id": "e3212a5f-122d-4901-b932-26578437634b",
   "metadata": {
    "tags": []
   },
   "source": [
    "# Project Assignment #2\n",
    "## Leonardo Paiva\n",
    "\n",
    "\n",
    "**Data Source:**\n",
    "\n",
    "The source that I will be using is from (Kaggle) with usability score of 9.41.\n",
    "\n",
    "The Author is Aadhav Vighnesh and it was pulbished 2 year ago.\n",
    "\n",
    "The title of the dataset is *Calories Burned During Exercise and Activities*\n",
    "\n",
    "[Official source](https://www.kaggle.com/datasets/aadhavvignesh/calories-burned-during-exercise-and-activities?select=exercise_dataset.csv)\n",
    "\n",
    "[Download dataset directly from my github](https://github.com/leozitopaiva/csx4501/blob/main/exercise_dataset.csv)\n",
    "\n",
    "\n",
    "**Description:**\n",
    "\n",
    "This dataset contains the number of calories burned by a person while performing some activity/exercise. It currently contains 248 activities and exercises ranging from running, cycling, calisthenics, etc.\n",
    "\n",
    "**About this file:**\n",
    "\n",
    "This dataset includes 6 columns:\n",
    "\n",
    "Activity, Exercise or Sport (1 hour)\n",
    "\n",
    "* 130 lb\n",
    "\n",
    "* 155 lb\n",
    "\n",
    "* 180 lb\n",
    "\n",
    "* 205 lb\n",
    "\n",
    "* Calories per lb"
   ]
  },
  {
   "cell_type": "markdown",
   "id": "15b39dec-55be-4e18-8278-7e12c384a527",
   "metadata": {},
   "source": [
    "## Choose a question about the data that you can use machine learning to explore\n",
    "\n",
    "Before state my questions, I would like to give same contect about the dataset I am using:\n",
    "\n",
    "This dataset contains the number of calories burned by a person while performing some activity/exercise.\n",
    "It currently contains 248 activities and exercises ranging from running, cycling, calisthenics, etc.\n",
    "\n",
    "The data was collected from five different person with different weights (130lb, 155lb, 180, and 205lb) \n",
    "\n",
    "- I want to use machine learn to answer the follwing questions:\n",
    "    - Q1. Within each persona group (130lb, 155lb, 180, and 205lb) I would like to idendify what is the avarage of calory burned from each person comparing then 248 activities.\n",
    "    - Q2. I want to know if the cycling activities are above/below the avarage of all activities\n",
    "    - Q3. inside of this dataset there are categories of activities like \"light\". \"moderate\", and \"vigorous\". I want to know what is the different between them in regards to calories burned"
   ]
  },
  {
   "cell_type": "code",
   "execution_count": 95,
   "id": "75b034e2-dbd2-4b6f-833c-34f3c79eb862",
   "metadata": {},
   "outputs": [],
   "source": [
    "# Importing the necessary Libraries\n",
    "\n",
    "import pandas as pd\n",
    "from sklearn.linear_model import LinearRegression\n",
    "import sklearn.linear_model\n",
    "import numpy as np\n",
    "import matplotlib.pyplot as plt\n",
    "from sklearn.metrics import mean_squared_error, r2_score\n"
   ]
  },
  {
   "cell_type": "code",
   "execution_count": 57,
   "id": "ad9cb20f-d874-4cd7-bfb5-aa584a270d59",
   "metadata": {},
   "outputs": [
    {
     "data": {
      "text/html": [
       "<div>\n",
       "<style scoped>\n",
       "    .dataframe tbody tr th:only-of-type {\n",
       "        vertical-align: middle;\n",
       "    }\n",
       "\n",
       "    .dataframe tbody tr th {\n",
       "        vertical-align: top;\n",
       "    }\n",
       "\n",
       "    .dataframe thead th {\n",
       "        text-align: right;\n",
       "    }\n",
       "</style>\n",
       "<table border=\"1\" class=\"dataframe\">\n",
       "  <thead>\n",
       "    <tr style=\"text-align: right;\">\n",
       "      <th></th>\n",
       "      <th>Activity, Exercise or Sport (1 hour)</th>\n",
       "      <th>130 lb</th>\n",
       "      <th>155 lb</th>\n",
       "      <th>180 lb</th>\n",
       "      <th>205 lb</th>\n",
       "      <th>Calories per kg</th>\n",
       "    </tr>\n",
       "  </thead>\n",
       "  <tbody>\n",
       "    <tr>\n",
       "      <th>0</th>\n",
       "      <td>Cycling, mountain bike, bmx</td>\n",
       "      <td>502</td>\n",
       "      <td>598</td>\n",
       "      <td>695</td>\n",
       "      <td>791</td>\n",
       "      <td>1.750730</td>\n",
       "    </tr>\n",
       "    <tr>\n",
       "      <th>1</th>\n",
       "      <td>Cycling, &lt;10 mph, leisure bicycling</td>\n",
       "      <td>236</td>\n",
       "      <td>281</td>\n",
       "      <td>327</td>\n",
       "      <td>372</td>\n",
       "      <td>0.823236</td>\n",
       "    </tr>\n",
       "    <tr>\n",
       "      <th>2</th>\n",
       "      <td>Cycling, &gt;20 mph, racing</td>\n",
       "      <td>944</td>\n",
       "      <td>1126</td>\n",
       "      <td>1308</td>\n",
       "      <td>1489</td>\n",
       "      <td>3.294974</td>\n",
       "    </tr>\n",
       "    <tr>\n",
       "      <th>3</th>\n",
       "      <td>Cycling, 10-11.9 mph, light</td>\n",
       "      <td>354</td>\n",
       "      <td>422</td>\n",
       "      <td>490</td>\n",
       "      <td>558</td>\n",
       "      <td>1.234853</td>\n",
       "    </tr>\n",
       "    <tr>\n",
       "      <th>4</th>\n",
       "      <td>Cycling, 12-13.9 mph, moderate</td>\n",
       "      <td>472</td>\n",
       "      <td>563</td>\n",
       "      <td>654</td>\n",
       "      <td>745</td>\n",
       "      <td>1.647825</td>\n",
       "    </tr>\n",
       "    <tr>\n",
       "      <th>...</th>\n",
       "      <td>...</td>\n",
       "      <td>...</td>\n",
       "      <td>...</td>\n",
       "      <td>...</td>\n",
       "      <td>...</td>\n",
       "      <td>...</td>\n",
       "    </tr>\n",
       "    <tr>\n",
       "      <th>243</th>\n",
       "      <td>General cleaning</td>\n",
       "      <td>207</td>\n",
       "      <td>246</td>\n",
       "      <td>286</td>\n",
       "      <td>326</td>\n",
       "      <td>0.721008</td>\n",
       "    </tr>\n",
       "    <tr>\n",
       "      <th>244</th>\n",
       "      <td>Cleaning, dusting</td>\n",
       "      <td>148</td>\n",
       "      <td>176</td>\n",
       "      <td>204</td>\n",
       "      <td>233</td>\n",
       "      <td>0.515199</td>\n",
       "    </tr>\n",
       "    <tr>\n",
       "      <th>245</th>\n",
       "      <td>Taking out trash</td>\n",
       "      <td>177</td>\n",
       "      <td>211</td>\n",
       "      <td>245</td>\n",
       "      <td>279</td>\n",
       "      <td>0.617427</td>\n",
       "    </tr>\n",
       "    <tr>\n",
       "      <th>246</th>\n",
       "      <td>Walking, pushing a wheelchair</td>\n",
       "      <td>236</td>\n",
       "      <td>281</td>\n",
       "      <td>327</td>\n",
       "      <td>372</td>\n",
       "      <td>0.823236</td>\n",
       "    </tr>\n",
       "    <tr>\n",
       "      <th>247</th>\n",
       "      <td>Teach physical education,exercise class</td>\n",
       "      <td>236</td>\n",
       "      <td>281</td>\n",
       "      <td>327</td>\n",
       "      <td>372</td>\n",
       "      <td>0.823236</td>\n",
       "    </tr>\n",
       "  </tbody>\n",
       "</table>\n",
       "<p>248 rows × 6 columns</p>\n",
       "</div>"
      ],
      "text/plain": [
       "        Activity, Exercise or Sport (1 hour)  130 lb  155 lb  180 lb  205 lb  \\\n",
       "0                Cycling, mountain bike, bmx     502     598     695     791   \n",
       "1        Cycling, <10 mph, leisure bicycling     236     281     327     372   \n",
       "2                   Cycling, >20 mph, racing     944    1126    1308    1489   \n",
       "3                Cycling, 10-11.9 mph, light     354     422     490     558   \n",
       "4             Cycling, 12-13.9 mph, moderate     472     563     654     745   \n",
       "..                                       ...     ...     ...     ...     ...   \n",
       "243                         General cleaning     207     246     286     326   \n",
       "244                        Cleaning, dusting     148     176     204     233   \n",
       "245                         Taking out trash     177     211     245     279   \n",
       "246            Walking, pushing a wheelchair     236     281     327     372   \n",
       "247  Teach physical education,exercise class     236     281     327     372   \n",
       "\n",
       "     Calories per kg  \n",
       "0           1.750730  \n",
       "1           0.823236  \n",
       "2           3.294974  \n",
       "3           1.234853  \n",
       "4           1.647825  \n",
       "..               ...  \n",
       "243         0.721008  \n",
       "244         0.515199  \n",
       "245         0.617427  \n",
       "246         0.823236  \n",
       "247         0.823236  \n",
       "\n",
       "[248 rows x 6 columns]"
      ]
     },
     "execution_count": 57,
     "metadata": {},
     "output_type": "execute_result"
    }
   ],
   "source": [
    "# Importing the data from the Dataset \"exercise_dataset.csv\" and printing it to check if the import process worked.\n",
    "impdata = pd.read_csv('exercise_dataset.csv')\n",
    "impdata"
   ]
  },
  {
   "cell_type": "markdown",
   "id": "5e621723-5956-4e1b-803a-5a7e3161223b",
   "metadata": {},
   "source": [
    "# Q1. Within each persona group (130lb, 155lb, 180, and 205lb) I would like to idendify what is the avarage of calory burned from each person comparing then 248 activities.\n",
    "\n",
    "- In order to validate this questions I am going to calculate the avarge of calory burned across all 248 activities inside of each persona group"
   ]
  },
  {
   "cell_type": "code",
   "execution_count": 58,
   "id": "94581daa-6144-4d3e-8d4a-0adaa4296e6c",
   "metadata": {},
   "outputs": [
    {
     "data": {
      "text/plain": [
       "[<matplotlib.lines.Line2D at 0x7fac8477f850>]"
      ]
     },
     "execution_count": 58,
     "metadata": {},
     "output_type": "execute_result"
    },
    {
     "data": {
      "image/png": "[encoded data removed]",
      "text/plain": [
       "<Figure size 432x288 with 1 Axes>"
      ]
     },
     "metadata": {
      "needs_background": "light"
     },
     "output_type": "display_data"
    }
   ],
   "source": [
    "x = [130, 155, 180, 205]\n",
    "y = [impdata['130 lb'].mean(), impdata['155 lb'].mean(), impdata['180 lb'].mean(), impdata['205 lb'].mean()]\n",
    "plt.plot(x,y,'ko')\n"
   ]
  },
  {
   "cell_type": "markdown",
   "id": "3ede48e5-8a19-4768-be72-517a6977b7ba",
   "metadata": {},
   "source": [
    "- As we can see on the above plot - It sounds like there is a correlaction between each persona group."
   ]
  },
  {
   "cell_type": "markdown",
   "id": "f37a7cb9-029e-4988-adbf-8b75a9e9c572",
   "metadata": {},
   "source": [
    "# Q2. I want to know if the cycling activities are above/below the avarage of all activities\n",
    "\n",
    "- Now I am going to filter/break the initial dataset into small df, so I can play with different sport activities."
   ]
  },
  {
   "cell_type": "code",
   "execution_count": 59,
   "id": "f9ce7b41-3a06-42a8-a55f-78ff7eb92dbc",
   "metadata": {},
   "outputs": [],
   "source": [
    "cyclingdf = impdata.loc[impdata['Activity, Exercise or Sport (1 hour)'].str.contains('Cycling')]"
   ]
  },
  {
   "cell_type": "code",
   "execution_count": 60,
   "id": "85b1d97d-f300-49a6-9740-213c12b363ec",
   "metadata": {},
   "outputs": [
    {
     "data": {
      "text/html": [
       "<div>\n",
       "<style scoped>\n",
       "    .dataframe tbody tr th:only-of-type {\n",
       "        vertical-align: middle;\n",
       "    }\n",
       "\n",
       "    .dataframe tbody tr th {\n",
       "        vertical-align: top;\n",
       "    }\n",
       "\n",
       "    .dataframe thead th {\n",
       "        text-align: right;\n",
       "    }\n",
       "</style>\n",
       "<table border=\"1\" class=\"dataframe\">\n",
       "  <thead>\n",
       "    <tr style=\"text-align: right;\">\n",
       "      <th></th>\n",
       "      <th>Activity, Exercise or Sport (1 hour)</th>\n",
       "      <th>130 lb</th>\n",
       "      <th>155 lb</th>\n",
       "      <th>180 lb</th>\n",
       "      <th>205 lb</th>\n",
       "      <th>Calories per kg</th>\n",
       "    </tr>\n",
       "  </thead>\n",
       "  <tbody>\n",
       "    <tr>\n",
       "      <th>0</th>\n",
       "      <td>Cycling, mountain bike, bmx</td>\n",
       "      <td>502</td>\n",
       "      <td>598</td>\n",
       "      <td>695</td>\n",
       "      <td>791</td>\n",
       "      <td>1.750730</td>\n",
       "    </tr>\n",
       "    <tr>\n",
       "      <th>1</th>\n",
       "      <td>Cycling, &lt;10 mph, leisure bicycling</td>\n",
       "      <td>236</td>\n",
       "      <td>281</td>\n",
       "      <td>327</td>\n",
       "      <td>372</td>\n",
       "      <td>0.823236</td>\n",
       "    </tr>\n",
       "    <tr>\n",
       "      <th>2</th>\n",
       "      <td>Cycling, &gt;20 mph, racing</td>\n",
       "      <td>944</td>\n",
       "      <td>1126</td>\n",
       "      <td>1308</td>\n",
       "      <td>1489</td>\n",
       "      <td>3.294974</td>\n",
       "    </tr>\n",
       "    <tr>\n",
       "      <th>3</th>\n",
       "      <td>Cycling, 10-11.9 mph, light</td>\n",
       "      <td>354</td>\n",
       "      <td>422</td>\n",
       "      <td>490</td>\n",
       "      <td>558</td>\n",
       "      <td>1.234853</td>\n",
       "    </tr>\n",
       "    <tr>\n",
       "      <th>4</th>\n",
       "      <td>Cycling, 12-13.9 mph, moderate</td>\n",
       "      <td>472</td>\n",
       "      <td>563</td>\n",
       "      <td>654</td>\n",
       "      <td>745</td>\n",
       "      <td>1.647825</td>\n",
       "    </tr>\n",
       "    <tr>\n",
       "      <th>5</th>\n",
       "      <td>Cycling, 14-15.9 mph, vigorous</td>\n",
       "      <td>590</td>\n",
       "      <td>704</td>\n",
       "      <td>817</td>\n",
       "      <td>931</td>\n",
       "      <td>2.059443</td>\n",
       "    </tr>\n",
       "    <tr>\n",
       "      <th>6</th>\n",
       "      <td>Cycling, 16-19 mph, very fast, racing</td>\n",
       "      <td>708</td>\n",
       "      <td>844</td>\n",
       "      <td>981</td>\n",
       "      <td>1117</td>\n",
       "      <td>2.471061</td>\n",
       "    </tr>\n",
       "  </tbody>\n",
       "</table>\n",
       "</div>"
      ],
      "text/plain": [
       "    Activity, Exercise or Sport (1 hour)  130 lb  155 lb  180 lb  205 lb  \\\n",
       "0            Cycling, mountain bike, bmx     502     598     695     791   \n",
       "1    Cycling, <10 mph, leisure bicycling     236     281     327     372   \n",
       "2               Cycling, >20 mph, racing     944    1126    1308    1489   \n",
       "3            Cycling, 10-11.9 mph, light     354     422     490     558   \n",
       "4         Cycling, 12-13.9 mph, moderate     472     563     654     745   \n",
       "5         Cycling, 14-15.9 mph, vigorous     590     704     817     931   \n",
       "6  Cycling, 16-19 mph, very fast, racing     708     844     981    1117   \n",
       "\n",
       "   Calories per kg  \n",
       "0         1.750730  \n",
       "1         0.823236  \n",
       "2         3.294974  \n",
       "3         1.234853  \n",
       "4         1.647825  \n",
       "5         2.059443  \n",
       "6         2.471061  "
      ]
     },
     "execution_count": 60,
     "metadata": {},
     "output_type": "execute_result"
    }
   ],
   "source": [
    "cyclingdf"
   ]
  },
  {
   "cell_type": "markdown",
   "id": "71d4d5f2-0880-4edb-b8c1-81f31fa8d469",
   "metadata": {},
   "source": [
    "- Here it is possible to identify that there is different intensity inside cycling. For now I will keep my inital question, but late I will explorer those different intensities as well."
   ]
  },
  {
   "cell_type": "code",
   "execution_count": 61,
   "id": "59b6e731-5878-464b-875f-375de50764f6",
   "metadata": {},
   "outputs": [
    {
     "data": {
      "text/plain": [
       "[<matplotlib.lines.Line2D at 0x7fac847038d0>]"
      ]
     },
     "execution_count": 61,
     "metadata": {},
     "output_type": "execute_result"
    },
    {
     "data": {
      "image/png": "[encoded data removed]",
      "text/plain": [
       "<Figure size 432x288 with 1 Axes>"
      ]
     },
     "metadata": {
      "needs_background": "light"
     },
     "output_type": "display_data"
    }
   ],
   "source": [
    "x = [130, 155, 180, 205]\n",
    "y1 = [impdata['130 lb'].mean(), impdata['155 lb'].mean(), impdata['180 lb'].mean(), impdata['205 lb'].mean()]\n",
    "y2 = [cyclingdf['130 lb'].mean(), cyclingdf['155 lb'].mean(), cyclingdf['180 lb'].mean(), cyclingdf['205 lb'].mean()]\n",
    "plt.plot(x,y1,'ro')\n",
    "plt.plot(x,y2,'go')"
   ]
  },
  {
   "cell_type": "markdown",
   "id": "1c67c242-778a-44d6-b45a-f26f0262c95e",
   "metadata": {},
   "source": [
    "- According to the plot we can see that Cylcing (y2 = in green) is above the avarage of all the avarage of all activities."
   ]
  },
  {
   "cell_type": "markdown",
   "id": "86ea4449-3e8b-4ad1-a955-2f90b2e051f0",
   "metadata": {},
   "source": [
    "# Q3. inside of this dataset there are categories of activities like \"light\". \"moderate\", and \"vigorous\". I want to know what is the different between them in regards to calories burned\n",
    "\n",
    "here I am going to filter/break the dataset into 3 new df (lightdf, moderatedf, vigorousdf) and I will plot the output to validate the information."
   ]
  },
  {
   "cell_type": "code",
   "execution_count": 62,
   "id": "be59c5c4-8e0c-4028-8c43-c6a6a776215a",
   "metadata": {},
   "outputs": [],
   "source": [
    "lightdf = impdata.loc[impdata['Activity, Exercise or Sport (1 hour)'].str.contains('light')]\n",
    "moderatedf = impdata.loc[impdata['Activity, Exercise or Sport (1 hour)'].str.contains('moderate')]\n",
    "vigorousdf = impdata.loc[impdata['Activity, Exercise or Sport (1 hour)'].str.contains('vigorous')]\n"
   ]
  },
  {
   "cell_type": "code",
   "execution_count": 63,
   "id": "093792f3-ac04-4ce3-8b92-91edd7e6357e",
   "metadata": {},
   "outputs": [
    {
     "data": {
      "text/plain": [
       "[<matplotlib.lines.Line2D at 0x7fac84688ad0>]"
      ]
     },
     "execution_count": 63,
     "metadata": {},
     "output_type": "execute_result"
    },
    {
     "data": {
      "image/png": "[encoded data removed]",
      "text/plain": [
       "<Figure size 432x288 with 1 Axes>"
      ]
     },
     "metadata": {
      "needs_background": "light"
     },
     "output_type": "display_data"
    }
   ],
   "source": [
    "x = [130, 155, 180, 205]\n",
    "y3 = [lightdf['130 lb'].mean(), lightdf['155 lb'].mean(), lightdf['180 lb'].mean(), lightdf['205 lb'].mean()]\n",
    "y4 = [moderatedf['130 lb'].mean(), moderatedf['155 lb'].mean(), moderatedf['180 lb'].mean(), moderatedf['205 lb'].mean()]\n",
    "y5 = [vigorousdf['130 lb'].mean(), vigorousdf['155 lb'].mean(), vigorousdf['180 lb'].mean(), vigorousdf['205 lb'].mean()]\n",
    "\n",
    "plt.plot(x,y3,'ko')\n",
    "plt.plot(x,y4,'bo')\n",
    "plt.plot(x,y5,'yo')"
   ]
  },
  {
   "cell_type": "markdown",
   "id": "d826d9c1-6709-4e03-a3f7-7e6ca2c0970b",
   "metadata": {},
   "source": [
    "- According to the plot we were able to identy the different. We can see that the gap between light to modarate is bigger than moderate to vigorous.\n",
    "\n",
    "    - lightdf (Black)\n",
    "    - moderatedf (Blue)\n",
    "    - vigorousdf (Yellow)"
   ]
  },
  {
   "cell_type": "code",
   "execution_count": 64,
   "id": "f47da7f8-2678-4af7-b9a6-c78bbe9b786e",
   "metadata": {},
   "outputs": [
    {
     "name": "stdout",
     "output_type": "stream",
     "text": [
      "[[1.         0.99999999]\n",
      " [0.99999999 1.        ]]\n",
      "[[1.         0.99999999]\n",
      " [0.99999999 1.        ]]\n",
      "[[1.         0.99999972]\n",
      " [0.99999972 1.        ]]\n",
      "[[1.         0.99999925]\n",
      " [0.99999925 1.        ]]\n",
      "[[1.        0.9999996]\n",
      " [0.9999996 1.       ]]\n",
      "[[1.         0.99999995]\n",
      " [0.99999995 1.        ]]\n"
     ]
    }
   ],
   "source": [
    "# We already saw on the plot that there was correlation, but lets double check with Numpy\n",
    "cl = np.corrcoef(x, y)\n",
    "print (cl)\n",
    "\n",
    "cl1 = np.corrcoef(x, y1)\n",
    "print (cl1)\n",
    "\n",
    "cl2 = np.corrcoef(x, y2)\n",
    "print (cl2)\n",
    "\n",
    "cl3 = np.corrcoef(x, y3)\n",
    "print (cl3)\n",
    "\n",
    "cl4 = np.corrcoef(x, y4)\n",
    "print (cl4)\n",
    "\n",
    "cl5 = np.corrcoef(x, y5)\n",
    "print (cl5)\n"
   ]
  },
  {
   "cell_type": "markdown",
   "id": "e634e0d6-ac75-465a-b943-4bd741f07430",
   "metadata": {},
   "source": [
    "# Perform machine learning with your data"
   ]
  },
  {
   "cell_type": "markdown",
   "id": "8ff93032-86f9-4d10-be6b-d193002a1dbf",
   "metadata": {},
   "source": [
    "- In order to apply Machine learning, I am going to use regression as ML methodology\n"
   ]
  },
  {
   "cell_type": "code",
   "execution_count": 87,
   "id": "e3a03c2e-6f9a-49e7-a514-55496a78607d",
   "metadata": {},
   "outputs": [],
   "source": [
    "np_array = np.asarray(x)\n",
    "x_transformed = np_array.reshape((-1, 1))"
   ]
  },
  {
   "cell_type": "code",
   "execution_count": 109,
   "id": "6f9583a7-1c7c-4661-a021-60c96ffc5b8e",
   "metadata": {},
   "outputs": [
    {
     "data": {
      "text/plain": [
       "LinearRegression()"
      ]
     },
     "execution_count": 109,
     "metadata": {},
     "output_type": "execute_result"
    }
   ],
   "source": [
    "# Choose the model\n",
    "\n",
    "model1 = sklearn.linear_model.LinearRegression()\n",
    "\n",
    "#Splliting the data\n",
    "x_train, x_test, y_train, y_test = sklearn.model_selection.train_test_split(\n",
    "    x_transformed, y, test_size=0.2, random_state=42)\n",
    "\n",
    "# Trainign the model\n",
    "model1.fit(x_train, y_train)"
   ]
  },
  {
   "cell_type": "code",
   "execution_count": 110,
   "id": "ba2a27e0-9488-4eca-ad47-9ebee4f98326",
   "metadata": {},
   "outputs": [
    {
     "data": {
      "text/plain": [
       "array([2.99828341])"
      ]
     },
     "execution_count": 110,
     "metadata": {},
     "output_type": "execute_result"
    }
   ],
   "source": [
    "# Princting the Coeficiente\n",
    "model1.coef_"
   ]
  },
  {
   "cell_type": "code",
   "execution_count": 111,
   "id": "43a1b316-82e2-43fd-bc6d-661096b9d0e2",
   "metadata": {},
   "outputs": [],
   "source": [
    "y_pred1 = model1.predict(x_test)"
   ]
  },
  {
   "cell_type": "code",
   "execution_count": 112,
   "id": "7bea0bd2-74dc-43ca-a7c7-4a7f86e96f94",
   "metadata": {},
   "outputs": [
    {
     "data": {
      "image/png": "[encoded data removed]",
      "text/plain": [
       "<Figure size 432x288 with 1 Axes>"
      ]
     },
     "metadata": {
      "needs_background": "light"
     },
     "output_type": "display_data"
    }
   ],
   "source": [
    "plt.scatter(x_train,y_train,color='black')\n",
    "plt.scatter(x_test,y_test,color='blue')\n",
    "plt.show()"
   ]
  },
  {
   "cell_type": "code",
   "execution_count": null,
   "id": "17182cc2-b6d4-4b31-b9ae-40f8db898d1f",
   "metadata": {},
   "outputs": [],
   "source": []
  }
 ],
 "metadata": {
  "kernelspec": {
   "display_name": "Python (Local)",
   "language": "python",
   "name": "local-base"
  },
  "language_info": {
   "codemirror_mode": {
    "name": "ipython",
    "version": 3
   },
   "file_extension": ".py",
   "mimetype": "text/x-python",
   "name": "python",
   "nbconvert_exporter": "python",
   "pygments_lexer": "ipython3",
   "version": "3.7.12"
  }
 },
 "nbformat": 4,
 "nbformat_minor": 5
}
